{
 "cells": [
  {
   "cell_type": "code",
   "execution_count": null,
   "id": "5972ec34-d9e0-48bc-a568-a7c6e0b6ceca",
   "metadata": {},
   "outputs": [],
   "source": [
    "Import modules"
   ]
  },
  {
   "cell_type": "code",
   "execution_count": 1,
   "id": "eba3f4a8-d1ae-48c2-895a-1b702b4be694",
   "metadata": {},
   "outputs": [],
   "source": [
    "import os # To import test image files\n",
    "import cv2 # To work with opencv images\n",
    "from PIL import Image # Image submodule to work with pillow images\n",
    "import pytesseract as pt # pytesseract module"
   ]
  },
  {
   "cell_type": "code",
   "execution_count": 90,
   "id": "d5a80cd1-98ac-4f0d-b18f-8e2ffeb79876",
   "metadata": {
    "scrolled": true
   },
   "outputs": [
    {
     "name": "stdout",
     "output_type": "stream",
     "text": [
      "abc-text.jpg\n",
      "bound-text-1.jpg\n",
      "bound-text-2.jpg\n",
      "contact-1.jpg\n",
      "hello-text.jpg\n",
      "hindi-news-1.jpg\n",
      "hindi-news-2.jpg\n",
      "hindi-text-1.jpg\n",
      "hindi-text-2.jpg\n",
      "image-paths.txt\n",
      "jap-text-1.png\n",
      "jap-text-2.png\n",
      "letter-1.png\n",
      "magazine-1.jpg\n",
      "news-1.png\n",
      "news-2.jpg\n",
      "portu-text-1.jpg\n",
      "portu-text-2.jpg\n",
      "selfie-circle.jpg\n",
      "sin-text-1.gif\n",
      "sin-text-2.gif\n",
      "span-text-1.png\n",
      "tam-text-1.png\n"
     ]
    }
   ],
   "source": [
    "text_img_path = r\"C:\\Users\\HEMA M\\OneDrive\\Desktop\\mini project\\text image\"\n",
    "create_path = lambda f : os.path.join(text_img_path, f)\n",
    "\n",
    "text_image_files = os.listdir(text_img_path)\n",
    "\n",
    "for f in text_image_files:\n",
    "    print(f)"
   ]
  },
  {
   "cell_type": "code",
   "execution_count": 65,
   "id": "2e353999-9658-45a0-b39d-1f6085d05821",
   "metadata": {},
   "outputs": [],
   "source": [
    "def show_image(img_path, size=(500, 500)):\n",
    "    image = cv2.imread(img_path)\n",
    "    image = cv2.resize(image, size)\n",
    "    \n",
    "    cv2.imshow(\"IMAGE\", image)\n",
    "    cv2.waitKey(0)\n",
    "    cv2.destroyAllWindows()"
   ]
  },
  {
   "cell_type": "code",
   "execution_count": null,
   "id": "16776ac3-cd5d-4e6f-9449-cefd388510b8",
   "metadata": {},
   "outputs": [],
   "source": [
    "Configure tesseract path in implementations (No need to add in to the PATH explicitly)"
   ]
  },
  {
   "cell_type": "code",
   "execution_count": 43,
   "id": "0f2518b2-7ed6-4f5e-bdaa-c854b679cf53",
   "metadata": {},
   "outputs": [],
   "source": [
    "# optional: only if you haven't configured PATH\n",
    "pt.pytesseract.tesseract_cmd = r\"C:\\Program Files\\Tesseract-OCR\\tesseract.exe\" # provide full path to tesseract.exe"
   ]
  },
  {
   "cell_type": "code",
   "execution_count": null,
   "id": "36818982-d0b6-48b5-aa96-eccbfe8c131d",
   "metadata": {},
   "outputs": [],
   "source": [
    "Checkout available languages"
   ]
  },
  {
   "cell_type": "code",
   "execution_count": 45,
   "id": "692b2de0-8533-444d-939b-fdaae5bd5ddb",
   "metadata": {},
   "outputs": [
    {
     "name": "stdout",
     "output_type": "stream",
     "text": [
      "eng\n",
      "osd\n"
     ]
    }
   ],
   "source": [
    "# using cmd: tesseract --list-langs\n",
    "avb_langs = pt.get_languages(config='')\n",
    "\n",
    "for lang in avb_langs:\n",
    "    print(lang)"
   ]
  },
  {
   "cell_type": "code",
   "execution_count": null,
   "id": "54b9520b-28bc-48f2-a11c-a904b3a1ec5b",
   "metadata": {},
   "outputs": [],
   "source": [
    "Extract text from an image : Simple"
   ]
  },
  {
   "cell_type": "code",
   "execution_count": null,
   "id": "7970eb6e-711e-495d-9897-a064a3bdf1f8",
   "metadata": {},
   "outputs": [
    {
     "name": "stdout",
     "output_type": "stream",
     "text": [
      "WEAK prope\n",
      "REVENGE.\n",
      "STRONG pEoPLE\n",
      "FORGIVE.\n",
      "INTELLIGENT propLe\n",
      "IGNORE.\n",
      "\n",
      "\n"
     ]
    }
   ],
   "source": [
    "image_path = text_image_files[2] # 2, 3, 12, 1, 13, 15\n",
    "path = create_path(image_path)\n",
    "\n",
    "image = Image.open(path)\n",
    "text = pt.image_to_string(image)\n",
    "\n",
    "print(text)\n",
    "show_image(path)"
   ]
  },
  {
   "cell_type": "code",
   "execution_count": null,
   "id": "1454a0db-c498-4cb3-a43a-584516e36cb3",
   "metadata": {},
   "outputs": [],
   "source": []
  },
  {
   "cell_type": "code",
   "execution_count": null,
   "id": "dae53016-69f5-4251-9e43-81a561ecd37c",
   "metadata": {},
   "outputs": [],
   "source": []
  }
 ],
 "metadata": {
  "kernelspec": {
   "display_name": "Python 3 (ipykernel)",
   "language": "python",
   "name": "python3"
  },
  "language_info": {
   "codemirror_mode": {
    "name": "ipython",
    "version": 3
   },
   "file_extension": ".py",
   "mimetype": "text/x-python",
   "name": "python",
   "nbconvert_exporter": "python",
   "pygments_lexer": "ipython3",
   "version": "3.12.4"
  }
 },
 "nbformat": 4,
 "nbformat_minor": 5
}
